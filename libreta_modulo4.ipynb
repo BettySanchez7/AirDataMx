{
 "cells": [
  {
   "cell_type": "markdown",
   "metadata": {
    "id": "6PKUC5E6bI9G"
   },
   "source": [
    "# Estimados de locación y variabilidad"
   ]
  },
  {
   "cell_type": "code",
   "execution_count": 1,
   "metadata": {
    "id": "LhJaw_0RbDU7"
   },
   "outputs": [],
   "source": [
    "#Importando paquetes necesarios\n",
    "import pandas as pd\n",
    "import matplotlib.pyplot as plt\n",
    "import seaborn as sns"
   ]
  },
  {
   "cell_type": "code",
   "execution_count": 9,
   "metadata": {
    "colab": {
     "base_uri": "https://localhost:8080/",
     "height": 299
    },
    "id": "JuCnXKxtbjWh",
    "outputId": "71b68f99-dfc7-4a94-cc15-ade700fccad5"
   },
   "outputs": [],
   "source": [
    "#Lectura de los Datos\n",
    "CO_mensual = pd.read_csv('datos/promedios_mensuales/CO_mensual.csv', index_col=0)\n",
    "NO2_mensual = pd.read_csv('datos/promedios_mensuales/NO2_mensual.csv', index_col=0)\n",
    "O3_mensual = pd.read_csv('datos/promedios_mensuales/O3_mensual.csv',index_col=0)\n",
    "PM10_mensual = pd.read_csv('datos/promedios_mensuales/PM10_mensual.csv', index_col=0)\n",
    "SO2_mensual = pd.read_csv('datos/promedios_mensuales/SO2_mensual.csv',index_col=0)"
   ]
  },
  {
   "cell_type": "code",
   "execution_count": 10,
   "metadata": {},
   "outputs": [],
   "source": [
    "#Obteniendo promedios generales (2005-2020)\n",
    "CO_promedios = CO_mensual.mean()\n",
    "NO2_promedios = NO2_mensual.mean()\n",
    "O3_promedios = O3_mensual.mean()\n",
    "PM10_promedios = PM10_mensual.mean()\n",
    "SO2_promedios = SO2_mensual.mean()"
   ]
  },
  {
   "cell_type": "code",
   "execution_count": 11,
   "metadata": {},
   "outputs": [],
   "source": [
    "#Obteniendo medianas generales (2005-2020)\n",
    "CO_medianas = CO_mensual.median()\n",
    "NO2_medianas = NO2_mensual.median()\n",
    "O3_medianas = O3_mensual.median()\n",
    "PM10_medianas = PM10_mensual.median()\n",
    "SO2_medianas = SO2_mensual.median()"
   ]
  },
  {
   "cell_type": "markdown",
   "metadata": {},
   "source": [
    "### Media Truncada"
   ]
  },
  {
   "cell_type": "code",
   "execution_count": 15,
   "metadata": {},
   "outputs": [],
   "source": [
    "#Obteniendo media truncada removiendo el 10% (5% inicial, 5% final)\n",
    "from scipy import stats\n",
    "\n",
    "CO_trunc = stats.trim_mean(CO_mensual, 0.1)\n",
    "NO2_trunc = stats.trim_mean(NO2_mensual, 0.1)\n",
    "O3_trunc = stats.trim_mean(O3_mensual, 0.1)\n",
    "PM10_trunc = stats.trim_mean(PM10_mensual, 0.1)\n",
    "SO2_trunc = stats.trim_mean(SO2_mensual, 0.1)"
   ]
  },
  {
   "cell_type": "markdown",
   "metadata": {},
   "source": [
    "### Desviación estándar"
   ]
  },
  {
   "cell_type": "code",
   "execution_count": 27,
   "metadata": {},
   "outputs": [
    {
     "name": "stdout",
     "output_type": "stream",
     "text": [
      "Desviación Estándar de CO en Noreste: 3.049510581024656\n",
      "Desviación Estándar de CO en Suroeste: 3.2012769170273816\n",
      "Desviación Estándar de CO en Noroeste: 3.6448281424817215\n",
      "Desviación Estándar de CO en Sureste: 4.326094459215761\n",
      "Desviación Estándar de CO en Centro: 4.277191604242742\n"
     ]
    }
   ],
   "source": [
    "#Calculando la desviación estándar\n",
    "CO_std = CO_mensual.std()\n",
    "CO_std\n",
    "print(f'Desviación Estándar de CO en Noreste: {CO_std[0]}')\n",
    "print(f'Desviación Estándar de CO en Suroeste: {CO_std[1]}')\n",
    "print(f'Desviación Estándar de CO en Noroeste: {CO_std[2]}')\n",
    "print(f'Desviación Estándar de CO en Sureste: {CO_std[3]}')\n",
    "print(f'Desviación Estándar de CO en Centro: {CO_std[4]}')"
   ]
  },
  {
   "cell_type": "code",
   "execution_count": 29,
   "metadata": {},
   "outputs": [
    {
     "data": {
      "text/plain": [
       "noreste_dioxido_de_nitrogeno     2.364479\n",
       "suroeste_dioxido_de_nitrogeno    2.530588\n",
       "noroeste_dioxido_de_nitrogeno    2.411108\n",
       "sureste_dioxido_de_nitrogeno     3.456326\n",
       "centro_dioxido_de_nitrogeno      2.757981\n",
       "dtype: float64"
      ]
     },
     "execution_count": 29,
     "metadata": {},
     "output_type": "execute_result"
    }
   ],
   "source": [
    "NO2_std = NO2_mensual.std()\n",
    "NO2_std"
   ]
  },
  {
   "cell_type": "code",
   "execution_count": 30,
   "metadata": {},
   "outputs": [
    {
     "data": {
      "text/plain": [
       "noreste_ozono     4.800603\n",
       "suroeste_ozono    5.734368\n",
       "noroeste_ozono    4.370544\n",
       "sureste_ozono     5.164359\n",
       "centro_ozono      4.470751\n",
       "dtype: float64"
      ]
     },
     "execution_count": 30,
     "metadata": {},
     "output_type": "execute_result"
    }
   ],
   "source": [
    "O3_std = O3_mensual.std()\n",
    "O3_std"
   ]
  },
  {
   "cell_type": "code",
   "execution_count": 31,
   "metadata": {},
   "outputs": [
    {
     "data": {
      "text/plain": [
       "noreste_pm10     13.942680\n",
       "suroeste_pm10     8.362398\n",
       "noroeste_pm10    14.252768\n",
       "sureste_pm10     12.945875\n",
       "centro_pm10      12.305364\n",
       "dtype: float64"
      ]
     },
     "execution_count": 31,
     "metadata": {},
     "output_type": "execute_result"
    }
   ],
   "source": [
    "PM10_std = PM10_mensual.std()\n",
    "PM10_std"
   ]
  },
  {
   "cell_type": "code",
   "execution_count": 32,
   "metadata": {},
   "outputs": [
    {
     "data": {
      "text/plain": [
       "noreste_dioxido_de_azufre     3.359510\n",
       "suroeste_dioxido_de_azufre    1.827403\n",
       "noroeste_dioxido_de_azufre    3.326789\n",
       "sureste_dioxido_de_azufre     1.855066\n",
       "centro_dioxido_de_azufre      2.652373\n",
       "dtype: float64"
      ]
     },
     "execution_count": 32,
     "metadata": {},
     "output_type": "execute_result"
    }
   ],
   "source": [
    "SO2_std = SO2_mensual.std()\n",
    "SO2_std"
   ]
  },
  {
   "cell_type": "markdown",
   "metadata": {},
   "source": [
    "### Rangos"
   ]
  },
  {
   "cell_type": "code",
   "execution_count": 35,
   "metadata": {},
   "outputs": [
    {
     "name": "stdout",
     "output_type": "stream",
     "text": [
      "Rangos por Zona del Monóxido de Carbono: \n",
      "noreste_monoxido_de_carbono     17.119215\n",
      "suroeste_monoxido_de_carbono    14.657004\n",
      "noroeste_monoxido_de_carbono    15.844839\n",
      "sureste_monoxido_de_carbono     18.338295\n",
      "centro_monoxido_de_carbono      19.193701\n",
      "dtype: float64\n"
     ]
    }
   ],
   "source": [
    "print(f'Rangos por Zona del Monóxido de carbono (CO): \\n{CO_mensual.max()-CO_mensual.min()}')"
   ]
  },
  {
   "cell_type": "code",
   "execution_count": 37,
   "metadata": {},
   "outputs": [
    {
     "name": "stdout",
     "output_type": "stream",
     "text": [
      "Rangos por Zona del Dióxido de nitrógeno (NO2): \n",
      "noreste_dioxido_de_nitrogeno     12.368190\n",
      "suroeste_dioxido_de_nitrogeno    13.449487\n",
      "noroeste_dioxido_de_nitrogeno    13.136759\n",
      "sureste_dioxido_de_nitrogeno     16.221030\n",
      "centro_dioxido_de_nitrogeno      14.995781\n",
      "dtype: float64\n"
     ]
    }
   ],
   "source": [
    "print(f'Rangos por Zona del Dióxido de nitrógeno (NO2): \\n{NO2_mensual.max()-NO2_mensual.min()}')"
   ]
  },
  {
   "cell_type": "code",
   "execution_count": 38,
   "metadata": {},
   "outputs": [
    {
     "name": "stdout",
     "output_type": "stream",
     "text": [
      "Rangos por Zona del Ozono (O3): \n",
      "noreste_ozono     25.112735\n",
      "suroeste_ozono    25.330320\n",
      "noroeste_ozono    21.540669\n",
      "sureste_ozono     26.328649\n",
      "centro_ozono      21.612589\n",
      "dtype: float64\n"
     ]
    }
   ],
   "source": [
    "print(f'Rangos por Zona del Ozono (O3): \\n{O3_mensual.max()-O3_mensual.min()}')"
   ]
  },
  {
   "cell_type": "code",
   "execution_count": 39,
   "metadata": {},
   "outputs": [
    {
     "name": "stdout",
     "output_type": "stream",
     "text": [
      "Rangos por Zona de Partículas en suspensión (PM10): \n",
      "noreste_pm10     67.001120\n",
      "suroeste_pm10    40.398342\n",
      "noroeste_pm10    60.606183\n",
      "sureste_pm10     57.213452\n",
      "centro_pm10      53.625834\n",
      "dtype: float64\n"
     ]
    }
   ],
   "source": [
    "print(f'Rangos por Zona de Partículas en suspensión (PM10): \\n{PM10_mensual.max()-PM10_mensual.min()}')"
   ]
  },
  {
   "cell_type": "code",
   "execution_count": 40,
   "metadata": {},
   "outputs": [
    {
     "name": "stdout",
     "output_type": "stream",
     "text": [
      "Rangos por Zona del Dióxido de azufre (SO2): \n",
      "noreste_dioxido_de_azufre     26.325000\n",
      "suroeste_dioxido_de_azufre    11.608871\n",
      "noroeste_dioxido_de_azufre    18.653853\n",
      "sureste_dioxido_de_azufre     11.895199\n",
      "centro_dioxido_de_azufre      15.559229\n",
      "dtype: float64\n"
     ]
    }
   ],
   "source": [
    "print(f'Rangos por Zona del Dióxido de azufre (SO2): \\n{SO2_mensual.max()-SO2_mensual.min()}')"
   ]
  },
  {
   "cell_type": "code",
   "execution_count": null,
   "metadata": {},
   "outputs": [],
   "source": []
  }
 ],
 "metadata": {
  "colab": {
   "authorship_tag": "ABX9TyO2Bfv2qnv9cWVOAzwfchCK",
   "name": "libreta_modulo4.ipynb",
   "provenance": []
  },
  "kernelspec": {
   "display_name": "Python 3",
   "language": "python",
   "name": "python3"
  },
  "language_info": {
   "codemirror_mode": {
    "name": "ipython",
    "version": 3
   },
   "file_extension": ".py",
   "mimetype": "text/x-python",
   "name": "python",
   "nbconvert_exporter": "python",
   "pygments_lexer": "ipython3",
   "version": "3.7.3"
  }
 },
 "nbformat": 4,
 "nbformat_minor": 1
}
