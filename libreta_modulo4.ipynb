{
 "cells": [
  {
   "cell_type": "markdown",
   "metadata": {
    "id": "6PKUC5E6bI9G"
   },
   "source": [
    "# Estimados de locación y variabilidad"
   ]
  },
  {
   "cell_type": "code",
   "execution_count": 1,
   "metadata": {
    "id": "LhJaw_0RbDU7"
   },
   "outputs": [],
   "source": [
    "#Importando paquetes necesarios\n",
    "import pandas as pd\n",
    "import matplotlib.pyplot as plt\n",
    "import seaborn as sns"
   ]
  },
  {
   "cell_type": "code",
   "execution_count": 9,
   "metadata": {
    "colab": {
     "base_uri": "https://localhost:8080/",
     "height": 299
    },
    "id": "JuCnXKxtbjWh",
    "outputId": "71b68f99-dfc7-4a94-cc15-ade700fccad5"
   },
   "outputs": [],
   "source": [
    "#Lectura de los Datos\n",
    "CO_mensual = pd.read_csv('datos/promedios_mensuales/CO_mensual.csv', index_col=0)\n",
    "NO2_mensual = pd.read_csv('datos/promedios_mensuales/NO2_mensual.csv', index_col=0)\n",
    "O3_mensual = pd.read_csv('datos/promedios_mensuales/O3_mensual.csv',index_col=0)\n",
    "PM10_mensual = pd.read_csv('datos/promedios_mensuales/PM10_mensual.csv', index_col=0)\n",
    "SO2_mensual = pd.read_csv('datos/promedios_mensuales/SO2_mensual.csv',index_col=0)"
   ]
  },
  {
   "cell_type": "code",
   "execution_count": 10,
   "metadata": {},
   "outputs": [],
   "source": [
    "#Obteniendo promedios generales (2005-2020)\n",
    "CO_promedios = CO_mensual.mean()\n",
    "NO2_promedios = NO2_mensual.mean()\n",
    "O3_promedios = O3_mensual.mean()\n",
    "PM10_promedios = PM10_mensual.mean()\n",
    "SO2_promedios = SO2_mensual.mean()"
   ]
  },
  {
   "cell_type": "code",
   "execution_count": 11,
   "metadata": {},
   "outputs": [],
   "source": [
    "#Obteniendo medianas generales (2005-2020)\n",
    "CO_medianas = CO_mensual.median()\n",
    "NO2_medianas = NO2_mensual.median()\n",
    "O3_medianas = O3_mensual.median()\n",
    "PM10_medianas = PM10_mensual.median()\n",
    "SO2_medianas = SO2_mensual.median()"
   ]
  },
  {
   "cell_type": "code",
   "execution_count": 15,
   "metadata": {},
   "outputs": [],
   "source": [
    "#Obteniendo mediana truncada removiendo el 10% (5% inicial, 5% final)\n",
    "from scipy import stats\n",
    "\n",
    "CO_trunc = stats.trim_mean(CO_mensual, 0.1)\n",
    "NO2_trunc = stats.trim_mean(NO2_mensual, 0.1)\n",
    "O3_trunc = stats.trim_mean(O3_mensual, 0.1)\n",
    "PM10_trunc = stats.trim_mean(PM10_mensual, 0.1)\n",
    "SO2_trunc = stats.trim_mean(SO2_mensual, 0.1)"
   ]
  },
  {
   "cell_type": "code",
   "execution_count": null,
   "metadata": {},
   "outputs": [],
   "source": []
  }
 ],
 "metadata": {
  "colab": {
   "authorship_tag": "ABX9TyO2Bfv2qnv9cWVOAzwfchCK",
   "name": "libreta_modulo4.ipynb",
   "provenance": []
  },
  "kernelspec": {
   "display_name": "Python 3",
   "language": "python",
   "name": "python3"
  },
  "language_info": {
   "codemirror_mode": {
    "name": "ipython",
    "version": 3
   },
   "file_extension": ".py",
   "mimetype": "text/x-python",
   "name": "python",
   "nbconvert_exporter": "python",
   "pygments_lexer": "ipython3",
   "version": "3.7.3"
  }
 },
 "nbformat": 4,
 "nbformat_minor": 1
}
