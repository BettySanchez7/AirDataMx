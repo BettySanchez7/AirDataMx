{
 "cells": [
  {
   "cell_type": "markdown",
   "metadata": {},
   "source": [
    "# Regresión lineal"
   ]
  },
  {
   "cell_type": "markdown",
   "metadata": {},
   "source": [
    "## CO Monóxido de Carbono NORESTE"
   ]
  },
  {
   "cell_type": "code",
   "execution_count": 1,
   "metadata": {},
   "outputs": [],
   "source": [
    "# Paquetes necesarios\n",
    "import pandas as pd\n",
    "import numpy as np\n",
    "import matplotlib.pyplot as plt"
   ]
  },
  {
   "cell_type": "code",
   "execution_count": 2,
   "metadata": {},
   "outputs": [
    {
     "data": {
      "text/html": [
       "<div>\n",
       "<style scoped>\n",
       "    .dataframe tbody tr th:only-of-type {\n",
       "        vertical-align: middle;\n",
       "    }\n",
       "\n",
       "    .dataframe tbody tr th {\n",
       "        vertical-align: top;\n",
       "    }\n",
       "\n",
       "    .dataframe thead th {\n",
       "        text-align: right;\n",
       "    }\n",
       "</style>\n",
       "<table border=\"1\" class=\"dataframe\">\n",
       "  <thead>\n",
       "    <tr style=\"text-align: right;\">\n",
       "      <th></th>\n",
       "      <th>fecha</th>\n",
       "      <th>noreste_monoxido_de_carbono</th>\n",
       "      <th>suroeste_monoxido_de_carbono</th>\n",
       "      <th>noroeste_monoxido_de_carbono</th>\n",
       "      <th>sureste_monoxido_de_carbono</th>\n",
       "      <th>centro_monoxido_de_carbono</th>\n",
       "    </tr>\n",
       "  </thead>\n",
       "  <tbody>\n",
       "    <tr>\n",
       "      <th>0</th>\n",
       "      <td>2005-01-31</td>\n",
       "      <td>17.379032</td>\n",
       "      <td>17.501344</td>\n",
       "      <td>18.849462</td>\n",
       "      <td>22.038978</td>\n",
       "      <td>22.013441</td>\n",
       "    </tr>\n",
       "    <tr>\n",
       "      <th>1</th>\n",
       "      <td>2005-02-28</td>\n",
       "      <td>16.300595</td>\n",
       "      <td>14.505952</td>\n",
       "      <td>16.983631</td>\n",
       "      <td>19.949405</td>\n",
       "      <td>19.897321</td>\n",
       "    </tr>\n",
       "    <tr>\n",
       "      <th>2</th>\n",
       "      <td>2005-03-31</td>\n",
       "      <td>15.766129</td>\n",
       "      <td>13.456989</td>\n",
       "      <td>17.076613</td>\n",
       "      <td>17.314516</td>\n",
       "      <td>20.239247</td>\n",
       "    </tr>\n",
       "    <tr>\n",
       "      <th>3</th>\n",
       "      <td>2005-04-30</td>\n",
       "      <td>14.031944</td>\n",
       "      <td>14.483333</td>\n",
       "      <td>18.434722</td>\n",
       "      <td>18.925000</td>\n",
       "      <td>21.051389</td>\n",
       "    </tr>\n",
       "    <tr>\n",
       "      <th>4</th>\n",
       "      <td>2005-05-31</td>\n",
       "      <td>16.165323</td>\n",
       "      <td>14.461022</td>\n",
       "      <td>16.596774</td>\n",
       "      <td>20.306452</td>\n",
       "      <td>19.369624</td>\n",
       "    </tr>\n",
       "  </tbody>\n",
       "</table>\n",
       "</div>"
      ],
      "text/plain": [
       "        fecha  noreste_monoxido_de_carbono  suroeste_monoxido_de_carbono  \\\n",
       "0  2005-01-31                    17.379032                     17.501344   \n",
       "1  2005-02-28                    16.300595                     14.505952   \n",
       "2  2005-03-31                    15.766129                     13.456989   \n",
       "3  2005-04-30                    14.031944                     14.483333   \n",
       "4  2005-05-31                    16.165323                     14.461022   \n",
       "\n",
       "   noroeste_monoxido_de_carbono  sureste_monoxido_de_carbono  \\\n",
       "0                     18.849462                    22.038978   \n",
       "1                     16.983631                    19.949405   \n",
       "2                     17.076613                    17.314516   \n",
       "3                     18.434722                    18.925000   \n",
       "4                     16.596774                    20.306452   \n",
       "\n",
       "   centro_monoxido_de_carbono  \n",
       "0                   22.013441  \n",
       "1                   19.897321  \n",
       "2                   20.239247  \n",
       "3                   21.051389  \n",
       "4                   19.369624  "
      ]
     },
     "execution_count": 2,
     "metadata": {},
     "output_type": "execute_result"
    }
   ],
   "source": [
    "df = pd.read_csv('../datos/promedios_mensuales/CO_mensual.csv')\n",
    "df.head()"
   ]
  },
  {
   "cell_type": "code",
   "execution_count": 3,
   "metadata": {},
   "outputs": [],
   "source": [
    "# Convirtiendo la fecha\n",
    "import datetime as dt\n",
    "df['fecha'] = pd.to_datetime(df['fecha'])\n",
    "df['fecha'] = df['fecha'].map(dt.datetime.toordinal)"
   ]
  },
  {
   "cell_type": "code",
   "execution_count": 4,
   "metadata": {},
   "outputs": [],
   "source": [
    "# Obteniendo variable independiente y dependiente\n",
    "X = df.iloc[:,0].values\n",
    "y = df.iloc[:,1].values\n",
    "X = X.reshape(-1,1)"
   ]
  },
  {
   "cell_type": "code",
   "execution_count": 5,
   "metadata": {},
   "outputs": [],
   "source": [
    "# Dividiendo conjunto de entrenamiento y prueba\n",
    "from sklearn.model_selection import train_test_split\n",
    "X_train, X_test, y_train, y_test = train_test_split(X, y, test_size = 0.2, random_state = 0)"
   ]
  },
  {
   "cell_type": "code",
   "execution_count": 6,
   "metadata": {},
   "outputs": [
    {
     "data": {
      "text/plain": [
       "0.5178267016091009"
      ]
     },
     "execution_count": 6,
     "metadata": {},
     "output_type": "execute_result"
    }
   ],
   "source": [
    "# Entrenando al modelo\n",
    "from sklearn.linear_model import LinearRegression\n",
    "lr = LinearRegression()\n",
    "lr.fit(X_train, y_train)\n",
    "lr.score(X_train, y_train)"
   ]
  },
  {
   "cell_type": "code",
   "execution_count": 7,
   "metadata": {},
   "outputs": [],
   "source": [
    "# Evaluando modelo de regresión lineal\n",
    "y_pred = lr.predict(X_test)"
   ]
  },
  {
   "cell_type": "markdown",
   "metadata": {},
   "source": [
    "# Resultados"
   ]
  },
  {
   "cell_type": "code",
   "execution_count": 8,
   "metadata": {},
   "outputs": [
    {
     "data": {
      "text/plain": [
       "array([ 8.29166667, 11.98521505,  6.49962742, 11.09077381,  9.52218495,\n",
       "       14.83467742, 12.70295699,  7.48507441,  9.03238691, 13.4233871 ,\n",
       "       12.35972222,  9.03092903,  7.25875914,  6.50102688,  6.35010161,\n",
       "        9.82193118, 12.09913793,  9.29166667,  8.49027419,  9.6438172 ,\n",
       "        8.88194444,  4.51581183,  8.78597312,  4.87199463,  7.24150753,\n",
       "        6.929125  ,  9.76388889, 12.31586022,  6.43821778, 10.16846882,\n",
       "       16.16532258,  8.23924731, 11.73252688,  7.35972222,  8.11827957,\n",
       "       12.18413978,  6.90140445,  6.61225377,  8.33472222])"
      ]
     },
     "execution_count": 8,
     "metadata": {},
     "output_type": "execute_result"
    }
   ],
   "source": [
    "y_test"
   ]
  },
  {
   "cell_type": "code",
   "execution_count": 9,
   "metadata": {},
   "outputs": [
    {
     "data": {
      "text/plain": [
       "array([ 9.44436528, 10.92924888,  7.2576845 ,  9.98087432,  8.78456755,\n",
       "       11.05118275, 13.23786353,  7.50697153,  8.00148112, 13.69037367,\n",
       "       13.77437256,  8.24670369,  7.46497208,  6.97046249,  7.38232801,\n",
       "        7.09239636, 12.4547771 , 11.25847033,  8.28870313,  8.94985568,\n",
       "       11.67033586,  6.26731049,  8.3713472 ,  6.47459808,  6.10202236,\n",
       "        7.71154947, 11.38311385, 11.5036929 ,  7.34168339, 12.61871042,\n",
       "       13.81501719, 11.71098048, 10.0188093 , 12.16484545, 12.12284601,\n",
       "       12.90864207,  6.63988621,  6.55588732,  9.32107658])"
      ]
     },
     "execution_count": 9,
     "metadata": {},
     "output_type": "execute_result"
    }
   ],
   "source": [
    "y_pred"
   ]
  },
  {
   "cell_type": "code",
   "execution_count": 10,
   "metadata": {},
   "outputs": [
    {
     "data": {
      "image/png": "[encoded data removed]",
      "text/plain": [
       "<Figure size 432x288 with 1 Axes>"
      ]
     },
     "metadata": {
      "needs_background": "light"
     },
     "output_type": "display_data"
    }
   ],
   "source": [
    "# Visualizar los resultados de entrenamiento\n",
    "plt.scatter(X_train, y_train, color = \"red\")\n",
    "plt.plot(X_train, lr.predict(X_train), color = \"blue\")\n",
    "plt.title(\"Contaminación de Monóxido de Carbono en Noreste (Entrenamiento)\")\n",
    "plt.xlabel(\"Fecha\")\n",
    "plt.ylabel(\"Nivel de Contaminación\")\n",
    "plt.show()"
   ]
  },
  {
   "cell_type": "markdown",
   "metadata": {},
   "source": [
    "## CO Monóxido de Carbono SUROESTE"
   ]
  },
  {
   "cell_type": "code",
   "execution_count": 11,
   "metadata": {},
   "outputs": [],
   "source": [
    "# Obteniendo variable independiente y dependiente\n",
    "X = df.iloc[:,0].values\n",
    "y = df.iloc[:,2].values\n",
    "X = X.reshape(-1,1)"
   ]
  },
  {
   "cell_type": "code",
   "execution_count": 12,
   "metadata": {},
   "outputs": [],
   "source": [
    "# Dividiendo conjunto de entrenamiento y prueba\n",
    "from sklearn.model_selection import train_test_split\n",
    "X_train, X_test, y_train, y_test = train_test_split(X, y, test_size = 0.2, random_state = 0)"
   ]
  },
  {
   "cell_type": "code",
   "execution_count": 13,
   "metadata": {},
   "outputs": [
    {
     "data": {
      "text/plain": [
       "0.7675557189114028"
      ]
     },
     "execution_count": 13,
     "metadata": {},
     "output_type": "execute_result"
    }
   ],
   "source": [
    "# Entrenando al modelo\n",
    "from sklearn.linear_model import LinearRegression\n",
    "lr = LinearRegression()\n",
    "lr.fit(X_train, y_train)\n",
    "lr.score(X_train, y_train)"
   ]
  },
  {
   "cell_type": "code",
   "execution_count": 14,
   "metadata": {},
   "outputs": [],
   "source": [
    "# Evaluando modelo de regresión lineal\n",
    "y_pred = lr.predict(X_test)"
   ]
  },
  {
   "cell_type": "markdown",
   "metadata": {},
   "source": [
    "## Resultados"
   ]
  },
  {
   "cell_type": "code",
   "execution_count": 15,
   "metadata": {},
   "outputs": [
    {
     "data": {
      "text/plain": [
       "array([ 8.03091398, 11.03970972,  4.05738575,  8.58035714,  6.12385883,\n",
       "       15.50270508, 11.89247312,  4.86258521,  5.93926892, 12.16397849,\n",
       "       11.89861111,  6.28514915,  4.32288502,  3.52579128,  3.88001713,\n",
       "        5.89949792,  9.49568966, 11.18548387,  5.91288805,  6.28494624,\n",
       "       10.41388889,  3.04729666,  6.8214902 ,  2.84433967,  3.84301249,\n",
       "        5.33424619, 10.12083333, 10.47715054,  4.35725896,  8.99327957,\n",
       "       14.46102151,  9.34274194, 10.15591398,  9.90694444, 10.7016129 ,\n",
       "       10.2688172 ,  4.30020968,  3.90353018,  9.14166667])"
      ]
     },
     "execution_count": 15,
     "metadata": {},
     "output_type": "execute_result"
    }
   ],
   "source": [
    "y_test"
   ]
  },
  {
   "cell_type": "code",
   "execution_count": 16,
   "metadata": {},
   "outputs": [
    {
     "data": {
      "text/plain": [
       "array([ 7.82389945,  9.64954004,  5.13541048,  8.48352872,  7.01268872,\n",
       "        9.79945578, 12.48794475,  5.44190489,  6.04989651, 13.04429873,\n",
       "       13.14757402,  6.35139372,  5.39026725,  4.78227563,  5.28865769,\n",
       "        4.93219137, 11.52515255, 10.05431255,  6.40303137,  7.21590783,\n",
       "       10.56069461,  3.91776152,  6.50464093,  4.17261828,  3.7145424 ,\n",
       "        5.69343019, 10.20755975, 10.35580976,  5.23868577, 11.72670593,\n",
       "       13.19754593, 10.61066652,  8.53016917, 11.16868623, 11.11704858,\n",
       "       12.08317225,  4.37583739,  4.2725621 ,  7.67231798])"
      ]
     },
     "execution_count": 16,
     "metadata": {},
     "output_type": "execute_result"
    }
   ],
   "source": [
    "y_pred"
   ]
  },
  {
   "cell_type": "code",
   "execution_count": 17,
   "metadata": {},
   "outputs": [
    {
     "data": {
      "image/png": "[encoded data removed]",
      "text/plain": [
       "<Figure size 432x288 with 1 Axes>"
      ]
     },
     "metadata": {
      "needs_background": "light"
     },
     "output_type": "display_data"
    }
   ],
   "source": [
    "# Visualizar los resultados de entrenamiento\n",
    "plt.scatter(X_train, y_train, color = \"red\")\n",
    "plt.plot(X_train, lr.predict(X_train), color = \"blue\")\n",
    "plt.title(\"Contaminación de Monóxido de Carbono en Suroeste (Entrenamiento)\")\n",
    "plt.xlabel(\"Fecha\")\n",
    "plt.ylabel(\"Nivel de Contaminación\")\n",
    "plt.show()"
   ]
  },
  {
   "cell_type": "code",
   "execution_count": null,
   "metadata": {},
   "outputs": [],
   "source": []
  }
 ],
 "metadata": {
  "kernelspec": {
   "display_name": "Python 3",
   "language": "python",
   "name": "python3"
  },
  "language_info": {
   "codemirror_mode": {
    "name": "ipython",
    "version": 3
   },
   "file_extension": ".py",
   "mimetype": "text/x-python",
   "name": "python",
   "nbconvert_exporter": "python",
   "pygments_lexer": "ipython3",
   "version": "3.7.3"
  }
 },
 "nbformat": 4,
 "nbformat_minor": 4
}
